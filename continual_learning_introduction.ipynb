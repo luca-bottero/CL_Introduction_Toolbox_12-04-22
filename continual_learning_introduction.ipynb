{
 "cells": [
  {
   "cell_type": "markdown",
   "metadata": {},
   "source": [
    "# Continual Learning\n",
    "### La (necessaria) rivoluzione del Machine Learning\n",
    "\n",
    "\n",
    "##### Machine Learning Journal Club - https://www.mljc.it/\n",
    "##### Luca Bottero - luca.bottero192@edu.unito.it"
   ]
  },
  {
   "cell_type": "markdown",
   "metadata": {},
   "source": [
    "## 1 - Motivazioni\n",
    "\n",
    "E' un fatto ben noto che il Machine Learning è in grado di fornire una soluzione a problemi computazionalmente estremamente complessi\n",
    "con risultati stupefacenti (a volte superando il benchmark umano di riferimento). Il ML è *de facto* lo standard per molte applicazioni\n",
    "di grande interesse industriale e di consumo, in un contesto di forte crescita sia della qualità dei risultati sia della quantità di \n",
    "scenari dove la sua applicazione risulta vantaggiosa."
   ]
  },
  {
   "cell_type": "markdown",
   "metadata": {},
   "source": [
    "#### Machine Vision\n",
    "Tra i risultati più notevoli del ML vi è sicuramente il suo impiego come strumento di Machine Vision: nella sua forma più elementare, un'immagine (matrice\n",
    "di intensità del segnale sui pixel) viene classificata all'interno di un insieme **finito e determinato** di categorie. Adottando modelli più complessi \n",
    "è possibile ottenere il cosidetto \"Masking\" (classificazione di determinate aree dell'immagine come appartenenti a specifiche oggetti), fino ad arrivare alla\n",
    "\"Image Caption Generation\", alla \"Image Question Answering\" e ad altro ancora.\n",
    "\n",
    "Lavorare con le immagini presenta diverse difficoltà, in primis le dimensioni dei dataset ($ O(10^2) $ GB per ImageNet) e il grande carico computazionale\n",
    "dei modelli impiegati (che possono facilmente superare le decine di ore su hardware specializzato). Esistono anche problematiche etiche e legali, che tuttavia\n",
    "non discutiamo.\n",
    "\n",
    "Per ovviare a tali problemi, si può fare ricorso a un dataset dalle dimensioni contenute. La scelta standard in tal senso è il dataset MNIST"
   ]
  },
  {
   "cell_type": "code",
   "execution_count": 1,
   "metadata": {},
   "outputs": [
    {
     "name": "stderr",
     "output_type": "stream",
     "text": [
      "/home/luca/.local/lib/python3.8/site-packages/torchvision/datasets/mnist.py:498: UserWarning: The given NumPy array is not writeable, and PyTorch does not support non-writeable tensors. This means you can write to the underlying (supposedly non-writeable) NumPy array using the tensor. You may want to copy the array to protect its data or make it writeable before converting it to a tensor. This type of warning will be suppressed for the rest of this program. (Triggered internally at  ../torch/csrc/utils/tensor_numpy.cpp:180.)\n",
      "  return torch.from_numpy(parsed.astype(m[2], copy=False)).view(*s)\n"
     ]
    },
    {
     "name": "stdout",
     "output_type": "stream",
     "text": [
      "torch.Size([1000, 1, 28, 28])\n"
     ]
    },
    {
     "data": {
      "image/png": "[encoded data removed]",
      "text/plain": [
       "<Figure size 432x288 with 6 Axes>"
      ]
     },
     "metadata": {},
     "output_type": "display_data"
    }
   ],
   "source": [
    "import torch\n",
    "import torchvision\n",
    "\n",
    "batch_size_train = 64\n",
    "batch_size_test = 1000\n",
    "\n",
    "random_seed = 42\n",
    "torch.backends.cudnn.enabled = False\n",
    "torch.manual_seed(random_seed)\n",
    "\n",
    "transform = torchvision.transforms.Compose([\n",
    "    torchvision.transforms.ToTensor(),\n",
    "    torchvision.transforms.Normalize((0.5,), (0.5,))\n",
    "    ])\n",
    "\n",
    "train_dataset = torchvision.datasets.MNIST('./data', train=True, download=True, transform=transform)\n",
    "test_dataset = torchvision.datasets.MNIST('./data', train=False, download=True, transform=transform)\n",
    "\n",
    "train_loader = torch.utils.data.DataLoader(train_dataset, batch_size=batch_size_train, shuffle=True)\n",
    "test_loader = torch.utils.data.DataLoader(test_dataset, batch_size=batch_size_test, shuffle=True)\n",
    "\n",
    "examples = enumerate(test_loader)\n",
    "batch_idx, (example_data, example_targets) = next(examples)\n",
    "\n",
    "print(example_data.shape)\n",
    "\n",
    "import matplotlib.pyplot as plt\n",
    "\n",
    "fig = plt.figure()\n",
    "for i in range(6):\n",
    "  plt.subplot(2,3,i+1)\n",
    "  plt.tight_layout()\n",
    "  plt.imshow(example_data[i][0], cmap='gray', interpolation='none')\n",
    "  plt.title(\"Ground Truth: {}\".format(example_targets[i]))\n",
    "  plt.xticks([])\n",
    "  plt.yticks([])\n",
    "  fig.set_facecolor('white')\n",
    "\n",
    "plt.show()\n",
    "\n"
   ]
  },
  {
   "cell_type": "markdown",
   "metadata": {},
   "source": []
  },
  {
   "cell_type": "markdown",
   "metadata": {},
   "source": [
    "Immaginiamo ora la seguente situazione: è necessario sviluppare un modello che riconosca la differenza tra le cifre 0 e 1. Dato che si tratta di un problema piuttosto semplice, decidiamo di costruire una rete neurale multistrato semplice, un percettrone. Impostiamo i dataloader, creiamo un modello e verifichiamo l'efficiacia del nostro approccio:"
   ]
  },
  {
   "cell_type": "code",
   "execution_count": 2,
   "metadata": {},
   "outputs": [
    {
     "name": "stdout",
     "output_type": "stream",
     "text": [
      "torch.Size([5923, 1])\n",
      "torch.Size([6742, 1])\n",
      "torch.Size([12665, 1])\n",
      "torch.Size([980, 1])\n",
      "torch.Size([1135, 1])\n",
      "torch.Size([2115, 1])\n"
     ]
    }
   ],
   "source": [
    "import copy\n",
    "\n",
    "idx_0 = train_dataset.targets == 0\n",
    "idx_1 = train_dataset.targets == 1\n",
    "\n",
    "idx = idx_0 | idx_1\n",
    "\n",
    "print(idx_0.nonzero().shape)\n",
    "print(idx_1.nonzero().shape)\n",
    "print(idx.nonzero().shape)\n",
    "\n",
    "train_dataset_01 = copy.deepcopy(train_dataset)\n",
    "train_dataset_01.targets = train_dataset_01.targets[idx]\n",
    "train_dataset_01.data = train_dataset_01.data[idx]\n",
    "\n",
    "train_loader_01 = torch.utils.data.DataLoader(train_dataset_01, batch_size=batch_size_train, shuffle=True)\n",
    "\n",
    "\n",
    "idx_0 = test_dataset.targets == 0\n",
    "idx_1 = test_dataset.targets == 1\n",
    "\n",
    "idx = idx_0 | idx_1\n",
    "\n",
    "print(idx_0.nonzero().shape)\n",
    "print(idx_1.nonzero().shape)\n",
    "print(idx.nonzero().shape)\n",
    "\n",
    "test_dataset_01 = copy.deepcopy(test_dataset)\n",
    "test_dataset_01.targets = test_dataset_01.targets[idx]\n",
    "test_dataset_01.data = test_dataset_01.data[idx]\n",
    "\n",
    "test_loader_01 = torch.utils.data.DataLoader(test_dataset_01, batch_size=batch_size_test, shuffle=True)\n"
   ]
  },
  {
   "cell_type": "markdown",
   "metadata": {},
   "source": [
    "L'operazione sopra poteva essere svolta in modo leggermente più rapido, tuttavia è evidente che il processo è piuttosto macchinoso. La rete neurale è definita come segue:"
   ]
  },
  {
   "cell_type": "code",
   "execution_count": 3,
   "metadata": {},
   "outputs": [],
   "source": [
    "import torch.nn as nn\n",
    "import torch.nn.functional as F\n",
    "\n",
    "class SimpleNet(nn.Module):\n",
    "    def __init__(self):\n",
    "        super(SimpleNet, self).__init__()\n",
    "        self.fc1 = nn.Linear(28*28, 64)\n",
    "        self.fc2 = nn.Linear(64, 64)\n",
    "        self.fc3 = nn.Linear(64, 2)\n",
    "\n",
    "    def forward(self, x):\n",
    "        x = x.view(-1, 28*28)\n",
    "        x = self.fc1(x)\n",
    "        x1 = F.relu(x)\n",
    "        x = self.fc2(x1)\n",
    "        x2 = F.relu(x)\n",
    "\n",
    "        return F.log_softmax(self.fc3(x2), dim=1)"
   ]
  },
  {
   "cell_type": "markdown",
   "metadata": {},
   "source": [
    "Il nostro modello elementare ha due layer e ha la funzione ReLu come attivazione. Dato che si tratta di un problema di classificazone, usiamo log_softmax come funzione di penalizzazione.\n",
    "Definiamo ora le funzioni per eseguire l'allenamento e la valutazione del nostro modello:"
   ]
  },
  {
   "cell_type": "code",
   "execution_count": 4,
   "metadata": {},
   "outputs": [],
   "source": [
    "from tqdm import tqdm\n",
    "\n",
    "def train(model, device, train_loader, optimizer, epoch):\n",
    "    #model.train()\n",
    "\n",
    "    with tqdm(train_loader, unit = 'batch') as tepoch:\n",
    "        mean_loss = 0\n",
    "        for num_tepoch, (data, target) in enumerate(tepoch):\n",
    "            data, target = data.to(device), target.to(device)\n",
    "            optimizer.zero_grad()\n",
    "            output = model(data)\n",
    "            loss = F.nll_loss(output, target)\n",
    "            loss.backward()\n",
    "            optimizer.step()\n",
    "\n",
    "            mean_loss += loss.item()\n",
    "\n",
    "            tepoch.set_postfix(loss=mean_loss/(num_tepoch + 1))\n",
    "        \n",
    "\n",
    "def test(model, device, test_loader):\n",
    "    model.eval()\n",
    "    test_loss = 0\n",
    "    correct = 0\n",
    "    with torch.no_grad():\n",
    "        for data, target in test_loader:\n",
    "            data, target = data.to(device), target.to(device)\n",
    "            output = model(data)\n",
    "            test_loss += F.nll_loss(output, target, reduction='sum').item()  # sum up batch loss\n",
    "            pred = output.argmax(dim=1, keepdim=True)  # get the index of the max log-probability\n",
    "            correct += pred.eq(target.view_as(pred)).sum().item()\n",
    "\n",
    "    test_loss /= len(test_loader.dataset)\n",
    "\n",
    "    print('\\nTest set: Average loss: {:.4f}, Accuracy: {}/{} ({:.0f}%)\\n'.format(\n",
    "        test_loss, correct, len(test_loader.dataset),\n",
    "        100. * correct / len(test_loader.dataset)))\n",
    "\n",
    "    return((test_loss, 100. * correct / len(test_loader.dataset)))"
   ]
  },
  {
   "cell_type": "code",
   "execution_count": 8,
   "metadata": {},
   "outputs": [],
   "source": [
    "import torch.optim as optim\n",
    "\n",
    "use_cuda = False\n",
    "save_model  = True\n",
    "epochs      = 5\n",
    "lr          = 1e-2\n",
    "\n",
    "device = torch.device(\"cuda\" if use_cuda else \"cpu\")\n",
    "\n",
    "model_01 = SimpleNet().to(device)\n",
    "\n",
    "optimizer = optim.Adadelta(model_01.parameters(), lr = lr)\n"
   ]
  },
  {
   "cell_type": "code",
   "execution_count": 9,
   "metadata": {},
   "outputs": [
    {
     "name": "stderr",
     "output_type": "stream",
     "text": [
      "100%|██████████| 198/198 [00:02<00:00, 69.33batch/s, loss=0.658]\n",
      "  5%|▍         | 9/198 [00:00<00:02, 80.09batch/s, loss=0.603]"
     ]
    },
    {
     "name": "stdout",
     "output_type": "stream",
     "text": [
      "\n",
      "Test set: Average loss: 0.6079, Accuracy: 2100/2115 (99%)\n",
      "\n"
     ]
    },
    {
     "name": "stderr",
     "output_type": "stream",
     "text": [
      "100%|██████████| 198/198 [00:02<00:00, 76.00batch/s, loss=0.55] \n",
      "  4%|▍         | 8/198 [00:00<00:02, 73.98batch/s, loss=0.493]"
     ]
    },
    {
     "name": "stdout",
     "output_type": "stream",
     "text": [
      "\n",
      "Test set: Average loss: 0.4923, Accuracy: 2093/2115 (99%)\n",
      "\n"
     ]
    },
    {
     "name": "stderr",
     "output_type": "stream",
     "text": [
      "100%|██████████| 198/198 [00:02<00:00, 78.26batch/s, loss=0.441]\n",
      "  4%|▍         | 8/198 [00:00<00:02, 77.17batch/s, loss=0.382]"
     ]
    },
    {
     "name": "stdout",
     "output_type": "stream",
     "text": [
      "\n",
      "Test set: Average loss: 0.3786, Accuracy: 2093/2115 (99%)\n",
      "\n"
     ]
    },
    {
     "name": "stderr",
     "output_type": "stream",
     "text": [
      "100%|██████████| 198/198 [00:02<00:00, 73.38batch/s, loss=0.331]\n",
      "  4%|▎         | 7/198 [00:00<00:03, 63.22batch/s, loss=0.274]"
     ]
    },
    {
     "name": "stdout",
     "output_type": "stream",
     "text": [
      "\n",
      "Test set: Average loss: 0.2761, Accuracy: 2099/2115 (99%)\n",
      "\n"
     ]
    },
    {
     "name": "stderr",
     "output_type": "stream",
     "text": [
      "100%|██████████| 198/198 [00:03<00:00, 64.69batch/s, loss=0.241]\n",
      "  3%|▎         | 6/198 [00:00<00:03, 58.39batch/s, loss=0.201]"
     ]
    },
    {
     "name": "stdout",
     "output_type": "stream",
     "text": [
      "\n",
      "Test set: Average loss: 0.1992, Accuracy: 2104/2115 (99%)\n",
      "\n"
     ]
    },
    {
     "name": "stderr",
     "output_type": "stream",
     "text": [
      "100%|██████████| 198/198 [00:03<00:00, 59.51batch/s, loss=0.177]\n",
      "  3%|▎         | 6/198 [00:00<00:03, 59.44batch/s, loss=0.147]"
     ]
    },
    {
     "name": "stdout",
     "output_type": "stream",
     "text": [
      "\n",
      "Test set: Average loss: 0.1459, Accuracy: 2105/2115 (100%)\n",
      "\n"
     ]
    },
    {
     "name": "stderr",
     "output_type": "stream",
     "text": [
      "100%|██████████| 198/198 [00:03<00:00, 63.79batch/s, loss=0.132]\n",
      "  4%|▎         | 7/198 [00:00<00:03, 58.87batch/s, loss=0.115]"
     ]
    },
    {
     "name": "stdout",
     "output_type": "stream",
     "text": [
      "\n",
      "Test set: Average loss: 0.1096, Accuracy: 2106/2115 (100%)\n",
      "\n"
     ]
    },
    {
     "name": "stderr",
     "output_type": "stream",
     "text": [
      "100%|██████████| 198/198 [00:03<00:00, 59.86batch/s, loss=0.102]\n"
     ]
    },
    {
     "name": "stdout",
     "output_type": "stream",
     "text": [
      "\n",
      "Test set: Average loss: 0.0847, Accuracy: 2107/2115 (100%)\n",
      "\n"
     ]
    }
   ],
   "source": [
    "for epoch in (range(1, epochs + 1)):\n",
    "    train(model_01, device, train_loader_01, optimizer, epoch)\n",
    "    test(model_01, device, test_loader_01)\n"
   ]
  },
  {
   "cell_type": "markdown",
   "metadata": {},
   "source": [
    "Nonostante l'estrema semplicità del nostro modello siamo comunque riusciti a ottenere un'accuratezza >99% in pochi secondi (com'era prevedibile). Fin'ora siamo ben dentro il classico dominio del ML e non abbiamo visto niente di nuovo rispetto a una semplice introduzione alle basi delle reti neurali.\n",
    "Immaginiamo ora di voler ampliare lo spettro d'applicazione del nostro modello aggiungendo la possibilità di classificare una terza cifra, ovvero il numero 2.\n",
    "\n",
    "Considerando il fatto che possediamo ancora i dati relativi alle due cifre, ci limitiamo a eseguire nuovamente l'allenamento, aggiungendo al dataset le nuove immagini.\n",
    "\n",
    "Iniziamo ripetendo la procedura effettuata in precedenza per creare i dataloader:"
   ]
  },
  {
   "cell_type": "code",
   "execution_count": 7,
   "metadata": {},
   "outputs": [
    {
     "name": "stdout",
     "output_type": "stream",
     "text": [
      "torch.Size([5923, 1])\n",
      "torch.Size([6742, 1])\n",
      "torch.Size([5958, 1])\n",
      "torch.Size([18623, 1])\n",
      "torch.Size([980, 1])\n",
      "torch.Size([1135, 1])\n",
      "torch.Size([1032, 1])\n",
      "torch.Size([3147, 1])\n"
     ]
    }
   ],
   "source": [
    "idx_0 = train_dataset.targets == 0\n",
    "idx_1 = train_dataset.targets == 1\n",
    "idx_2 = train_dataset.targets == 2\n",
    "\n",
    "idx = idx_0 | idx_1 | idx_2\n",
    "\n",
    "print(idx_0.nonzero().shape)\n",
    "print(idx_1.nonzero().shape)\n",
    "print(idx_2.nonzero().shape)\n",
    "print(idx.nonzero().shape)\n",
    "\n",
    "train_dataset_012 = copy.deepcopy(train_dataset)\n",
    "train_dataset_012.targets = train_dataset_012.targets[idx]\n",
    "train_dataset_012.data = train_dataset_012.data[idx]\n",
    "\n",
    "train_loader_012 = torch.utils.data.DataLoader(train_dataset_012, batch_size=batch_size_train, shuffle=True)\n",
    "\n",
    "\n",
    "idx_0 = test_dataset.targets == 0\n",
    "idx_1 = test_dataset.targets == 1\n",
    "idx_2 = test_dataset.targets == 2\n",
    "\n",
    "idx = idx_0 | idx_1 | idx_2\n",
    "\n",
    "print(idx_0.nonzero().shape)\n",
    "print(idx_1.nonzero().shape)\n",
    "print(idx_2.nonzero().shape)\n",
    "print(idx.nonzero().shape)\n",
    "\n",
    "test_dataset_012 = copy.deepcopy(test_dataset)\n",
    "test_dataset_012.targets = test_dataset_012.targets[idx]\n",
    "test_dataset_012.data = test_dataset_012.data[idx]\n",
    "\n",
    "test_loader_012 = torch.utils.data.DataLoader(test_dataset_012, batch_size=batch_size_test, shuffle=True)"
   ]
  },
  {
   "cell_type": "markdown",
   "metadata": {},
   "source": [
    "Notiamo che il processo, già macchinoso la prima volta, diventa insostenibile qualora lo si dovesse scalare a grande scala. Appare evidente la necessità di creare un metodo più efficiente per caricare i dati in questo modo.\n",
    "\n",
    "Incappiamo ora in un secondo problema: il nostro modello possiede due soli neuroni in output. Occorre quindi **cambiare la topologia della rete neurale**, ovvero modificare il numero di neuroni in uno dei suoi strati, in questo caso l'ultimo. Come fare? Diversi approcci sono possibili. Il più semplice consiste nell'istanziare un nuovo modello avente il numero giusto di neuroni d'uscita. Tuttavia, così facendo si paga un costo enorme: perdiamo totalmente ogni contributo dato dal precedente allenamento. Alla fine dei conti, stiamo semplicemente ripetendo la procedura di addestramento *ex novo*, non usando i risultati ottenuti precedentemente. Ovviamente, questa tecnica \"assicura\" la risucita dell'addestramento, motivo per il quale è presa da riferimento con il quale valutare l'efficacia degli algoritmi di CL. Questo approccio è detto **incremental learning**, ovvero \"bariamo e riaddestriamo da zero\" (che è ciò che vogliamo evitare facendo CL)."
   ]
  },
  {
   "cell_type": "code",
   "execution_count": 12,
   "metadata": {},
   "outputs": [
    {
     "name": "stderr",
     "output_type": "stream",
     "text": [
      "100%|██████████| 291/291 [00:04<00:00, 71.72batch/s, loss=0.766]\n",
      "  2%|▏         | 7/291 [00:00<00:04, 64.86batch/s, loss=0.376]"
     ]
    },
    {
     "name": "stdout",
     "output_type": "stream",
     "text": [
      "\n",
      "Test set: Average loss: 0.3894, Accuracy: 2976/3147 (95%)\n",
      "\n"
     ]
    },
    {
     "name": "stderr",
     "output_type": "stream",
     "text": [
      "100%|██████████| 291/291 [00:04<00:00, 59.44batch/s, loss=0.239]\n",
      "  2%|▏         | 6/291 [00:00<00:04, 57.55batch/s, loss=0.161]"
     ]
    },
    {
     "name": "stdout",
     "output_type": "stream",
     "text": [
      "\n",
      "Test set: Average loss: 0.1545, Accuracy: 3048/3147 (97%)\n",
      "\n"
     ]
    },
    {
     "name": "stderr",
     "output_type": "stream",
     "text": [
      "100%|██████████| 291/291 [00:05<00:00, 51.42batch/s, loss=0.13] \n",
      "  2%|▏         | 6/291 [00:00<00:05, 53.88batch/s, loss=0.131]"
     ]
    },
    {
     "name": "stdout",
     "output_type": "stream",
     "text": [
      "\n",
      "Test set: Average loss: 0.1041, Accuracy: 3075/3147 (98%)\n",
      "\n"
     ]
    },
    {
     "name": "stderr",
     "output_type": "stream",
     "text": [
      "100%|██████████| 291/291 [00:06<00:00, 45.49batch/s, loss=0.0988]\n",
      "  2%|▏         | 6/291 [00:00<00:05, 51.98batch/s, loss=0.105] "
     ]
    },
    {
     "name": "stdout",
     "output_type": "stream",
     "text": [
      "\n",
      "Test set: Average loss: 0.0833, Accuracy: 3085/3147 (98%)\n",
      "\n"
     ]
    },
    {
     "name": "stderr",
     "output_type": "stream",
     "text": [
      "100%|██████████| 291/291 [00:06<00:00, 42.53batch/s, loss=0.0843]\n",
      "  2%|▏         | 5/291 [00:00<00:06, 45.59batch/s, loss=0.0724]"
     ]
    },
    {
     "name": "stdout",
     "output_type": "stream",
     "text": [
      "\n",
      "Test set: Average loss: 0.0720, Accuracy: 3085/3147 (98%)\n",
      "\n"
     ]
    },
    {
     "name": "stderr",
     "output_type": "stream",
     "text": [
      "100%|██████████| 291/291 [00:05<00:00, 52.42batch/s, loss=0.0754]\n",
      "  2%|▏         | 6/291 [00:00<00:04, 58.09batch/s, loss=0.0712]"
     ]
    },
    {
     "name": "stdout",
     "output_type": "stream",
     "text": [
      "\n",
      "Test set: Average loss: 0.0647, Accuracy: 3092/3147 (98%)\n",
      "\n"
     ]
    },
    {
     "name": "stderr",
     "output_type": "stream",
     "text": [
      "100%|██████████| 291/291 [00:05<00:00, 50.92batch/s, loss=0.0693]\n",
      "  2%|▏         | 6/291 [00:00<00:05, 53.83batch/s, loss=0.0622]"
     ]
    },
    {
     "name": "stdout",
     "output_type": "stream",
     "text": [
      "\n",
      "Test set: Average loss: 0.0595, Accuracy: 3096/3147 (98%)\n",
      "\n"
     ]
    },
    {
     "name": "stderr",
     "output_type": "stream",
     "text": [
      "100%|██████████| 291/291 [00:06<00:00, 47.34batch/s, loss=0.0648]\n"
     ]
    },
    {
     "name": "stdout",
     "output_type": "stream",
     "text": [
      "\n",
      "Test set: Average loss: 0.0546, Accuracy: 3101/3147 (99%)\n",
      "\n"
     ]
    }
   ],
   "source": [
    "class SimpleNet_again(nn.Module):\n",
    "    def __init__(self):\n",
    "        super(SimpleNet_again, self).__init__()\n",
    "        self.fc1 = nn.Linear(28*28, 64)\n",
    "        self.fc2 = nn.Linear(64, 64)\n",
    "        self.fc3 = nn.Linear(64, 3)\n",
    "\n",
    "    def forward(self, x):\n",
    "        x = x.view(-1, 28*28)\n",
    "        x = self.fc1(x)\n",
    "        x1 = F.relu(x)\n",
    "        x = self.fc2(x1)\n",
    "        x2 = F.relu(x)\n",
    "\n",
    "        return F.log_softmax(self.fc3(x2), dim=1)\n",
    "\n",
    "epochs      = 5\n",
    "lr          = 1e-2\n",
    "\n",
    "model_012 = SimpleNet_again().to(device)\n",
    "\n",
    "optimizer = optim.Adadelta(model_012.parameters(), lr = lr)\n",
    "\n",
    "for epoch in (range(1, epochs + 1)):\n",
    "    train(model_012, device, train_loader_012, optimizer, epoch)\n",
    "    test(model_012, device, test_loader_012)\n"
   ]
  },
  {
   "cell_type": "markdown",
   "metadata": {},
   "source": [
    "Come prima, anche qui otteniamo un risultato molto buono in poco tempo. Tuttavia non siamo soddisfatti. Per quanto funzionale (sulla nostra piccola e irrealistica scala), questo approccio è inefficiente, inelegante e difficilmente scalabile. Vogliamo trovare un modo di sfruttare l'addestramento precedente della rete neurale, in modo (si spera!) di aumentare le prestazioni. Un approccio sensato è quello di considerare come delle scatole nere tutto ciò che procede l'ultimo (o gli ultimi) strati della rete neurale: gli strati intermedi vengono detti \"estrattori di caratteristiche\" (features extractors), mentre gli ultimi vengono detti \"classificatori\". Ipersemplificando, i considera quindi l'insieme degli strati intermedi come una serie di applicazioni geometriche che trasformano gli input in una loro rappresentazione all'interno di uno spazio a dimensione differente, le cui caratteristiche metriche descrivono il \"grado di seprazione\" tra diversi sample mostrati in fase di addestramento. Lo strato di classificazione mappa questa rappresentazione sullo spazio di output.\n",
    "\n",
    "Si potrebbe quindi modificare solo il classificatore (strato finale), lasciando inalterato l'estrattore di feature. Così facendo abbiamo implicitamente assunto che la topologia dello spazio delle feature (ottenuta dagli stati intermedi) possa \"accomodare\" in maniera corretta e significativa i nuovi dati. Solo l'esperimento può dimostarcelo:"
   ]
  },
  {
   "cell_type": "code",
   "execution_count": 28,
   "metadata": {},
   "outputs": [
    {
     "name": "stdout",
     "output_type": "stream",
     "text": [
      "False\n",
      "False\n",
      "False\n",
      "False\n",
      "False\n",
      "True\n"
     ]
    }
   ],
   "source": [
    "model_01_last_modified = copy.deepcopy(model_01)\n",
    "\n",
    "n_layers = len(list(model_01_last_modified.parameters()))\n",
    "\n",
    "for i,params in enumerate(model_01_last_modified.parameters()):\n",
    "    if i != n_layers - 1:\n",
    "        params.requires_grad = False\n",
    "\n",
    "for i,params in enumerate(model_01_last_modified.parameters()):\n",
    "    print(params.requires_grad)\n"
   ]
  },
  {
   "cell_type": "code",
   "execution_count": 30,
   "metadata": {},
   "outputs": [
    {
     "name": "stdout",
     "output_type": "stream",
     "text": [
      "Linear(in_features=784, out_features=64, bias=True)\n",
      "Linear(in_features=64, out_features=64, bias=True)\n",
      "Linear(in_features=64, out_features=3, bias=True)\n"
     ]
    }
   ],
   "source": [
    "modules = model_01_last_modified._modules\n",
    "last_module_name = list(modules.keys())[-1]\n",
    "\n",
    "model_01_last_modified._modules[last_module_name] = nn.Linear(64,3)\n",
    "\n",
    "for child in model_01_last_modified.children():\n",
    "    print(child)\n"
   ]
  },
  {
   "cell_type": "code",
   "execution_count": 31,
   "metadata": {},
   "outputs": [
    {
     "name": "stderr",
     "output_type": "stream",
     "text": [
      "100%|██████████| 291/291 [00:03<00:00, 82.85batch/s, loss=1.16]\n",
      "  3%|▎         | 9/291 [00:00<00:03, 81.74batch/s, loss=1.06]"
     ]
    },
    {
     "name": "stdout",
     "output_type": "stream",
     "text": [
      "\n",
      "Test set: Average loss: 1.0766, Accuracy: 984/3147 (31%)\n",
      "\n"
     ]
    },
    {
     "name": "stderr",
     "output_type": "stream",
     "text": [
      "100%|██████████| 291/291 [00:03<00:00, 86.68batch/s, loss=0.996]\n",
      "  3%|▎         | 8/291 [00:00<00:03, 71.52batch/s, loss=0.913]"
     ]
    },
    {
     "name": "stdout",
     "output_type": "stream",
     "text": [
      "\n",
      "Test set: Average loss: 0.9262, Accuracy: 2109/3147 (67%)\n",
      "\n"
     ]
    },
    {
     "name": "stderr",
     "output_type": "stream",
     "text": [
      "100%|██████████| 291/291 [00:03<00:00, 84.62batch/s, loss=0.864]\n",
      "  3%|▎         | 8/291 [00:00<00:03, 77.88batch/s, loss=0.808]"
     ]
    },
    {
     "name": "stdout",
     "output_type": "stream",
     "text": [
      "\n",
      "Test set: Average loss: 0.8105, Accuracy: 2110/3147 (67%)\n",
      "\n"
     ]
    },
    {
     "name": "stderr",
     "output_type": "stream",
     "text": [
      "100%|██████████| 291/291 [00:03<00:00, 76.21batch/s, loss=0.765]\n",
      "  3%|▎         | 8/291 [00:00<00:03, 73.60batch/s, loss=0.727]"
     ]
    },
    {
     "name": "stdout",
     "output_type": "stream",
     "text": [
      "\n",
      "Test set: Average loss: 0.7236, Accuracy: 2143/3147 (68%)\n",
      "\n"
     ]
    },
    {
     "name": "stderr",
     "output_type": "stream",
     "text": [
      "100%|██████████| 291/291 [00:03<00:00, 75.85batch/s, loss=0.688]\n"
     ]
    },
    {
     "name": "stdout",
     "output_type": "stream",
     "text": [
      "\n",
      "Test set: Average loss: 0.6554, Accuracy: 2265/3147 (72%)\n",
      "\n"
     ]
    }
   ],
   "source": [
    "epochs      = 5\n",
    "lr          = 1e-2\n",
    "\n",
    "optimizer = optim.Adadelta(model_01_last_modified.parameters(), lr = lr)\n",
    "\n",
    "for epoch in (range(1, epochs + 1)):\n",
    "    train(model_01_last_modified, device, train_loader_012, optimizer, epoch)\n",
    "    test(model_01_last_modified, device, test_loader_012)"
   ]
  },
  {
   "cell_type": "markdown",
   "metadata": {},
   "source": [
    "Verifichiamo brevemente che i layer intermedi non sono stati modificati:"
   ]
  },
  {
   "cell_type": "code",
   "execution_count": 34,
   "metadata": {},
   "outputs": [
    {
     "name": "stdout",
     "output_type": "stream",
     "text": [
      "tensor([[True, True, True,  ..., True, True, True],\n",
      "        [True, True, True,  ..., True, True, True],\n",
      "        [True, True, True,  ..., True, True, True],\n",
      "        ...,\n",
      "        [True, True, True,  ..., True, True, True],\n",
      "        [True, True, True,  ..., True, True, True],\n",
      "        [True, True, True,  ..., True, True, True]])\n",
      "tensor([True, True, True, True, True, True, True, True, True, True, True, True,\n",
      "        True, True, True, True, True, True, True, True, True, True, True, True,\n",
      "        True, True, True, True, True, True, True, True, True, True, True, True,\n",
      "        True, True, True, True, True, True, True, True, True, True, True, True,\n",
      "        True, True, True, True, True, True, True, True, True, True, True, True,\n",
      "        True, True, True, True])\n",
      "tensor([[True, True, True,  ..., True, True, True],\n",
      "        [True, True, True,  ..., True, True, True],\n",
      "        [True, True, True,  ..., True, True, True],\n",
      "        ...,\n",
      "        [True, True, True,  ..., True, True, True],\n",
      "        [True, True, True,  ..., True, True, True],\n",
      "        [True, True, True,  ..., True, True, True]])\n",
      "tensor([True, True, True, True, True, True, True, True, True, True, True, True,\n",
      "        True, True, True, True, True, True, True, True, True, True, True, True,\n",
      "        True, True, True, True, True, True, True, True, True, True, True, True,\n",
      "        True, True, True, True, True, True, True, True, True, True, True, True,\n",
      "        True, True, True, True, True, True, True, True, True, True, True, True,\n",
      "        True, True, True, True])\n",
      "The size of tensor a (2) must match the size of tensor b (3) at non-singleton dimension 0\n",
      "The size of tensor a (2) must match the size of tensor b (3) at non-singleton dimension 0\n"
     ]
    }
   ],
   "source": [
    "for original,modified in zip(model_01.parameters(), model_01_last_modified.parameters()):\n",
    "    try:\n",
    "        print(original == modified)\n",
    "    except Exception as e:\n",
    "        print(e)\n"
   ]
  },
  {
   "cell_type": "markdown",
   "metadata": {},
   "source": [
    "Il risultato ottenuto non è buono quanto il valore di riferimento. Probabilmente la cause è da ricercarsi nella semplicità del nostro modello, tuttavia questo approccio ha dei limiti intrinsechi: non è detto che lo spazio delle feature imparate su di un specifico insieme di dati sia \"valido\" anche per dati fuori dalla distribuzione originale. Questo approccio è alla base del cosiddetto **transfer learning**, che non approfondiamo in questa sede.\n",
    "\n",
    "Vogliamo però notare che abbiamo già ottenuto un piccolo vantaggio (nonostante un basso rendimento complessivo): la velocità del training è quasi raddoppiata, com'è ovvio considerando che stiamo aggiornando un sottoinsieme piuttosto piccolo di parametri.\n",
    "\n",
    "## 2 - Sviluppo\n",
    "\n",
    "### Accesso limitato ai dati\n",
    "\n",
    "Fin'ora abbiamo avuto un grande vantaggio: i dati a nostra disposizione rimanevano tali per sempre. A primo avviso può sembrare naturale, percezione data dalla relativa facilità di stoccaggio dei dati per progetti amatoriali. Tuttavia, il costo dello stoccaggio di dati non può essere trascurato in caso di modelli estremamente complessi. Dato che il valore del ML è direttamente proporzionale alla complessità dei problemi che permette di affrontare, è di fondamentale importanza comprendere l'alto costo dell'immagazzinamento dei dati. \n",
    "\n",
    "Ogni giorno, le decine di satelliti metereologici che orbitano intorno al nostro pianeta raccolgo TB di dati relativi alle condizioni fisiche e chimiche dell'atmosfera e della superficie del pianeta. La maggior parte di questi dati viene impiegata per eseguire delle previsioni metereologiche, tuttavia solo una parte piuttosto esigua viene immagazzinata con la risoluzione massima. La maggior parte dei dati viene salvata con una risoluzione spaziale nettamente inferiore. Vengono quindi perse immense quantità di dati ogni giorno, poichè il costo dell'immagazzinamento sarebbe proibitivo (e probabilmente l'output globale di memorie informatiche dovrebbe aumentare di molto per poter sostenere la richiesta, cosa ovvia impossibile).\n",
    "\n",
    "Immaginiamo di sviluppare un robot umanoide che debba interagire con gli umani e con l'ambiente circostante. Esso deve imparare tramite l'esperienza delle informazioni che non solo non sono conosciute a priori, ma non sono *conoscibili* a priori: l'ambiente è in perenne mutamento, così come gli oggetti e le interazioni tra essi. Risulta quindi essenziale una capacità di astrazione tale da permettere l'apprendimento e il riconoscimento in maniera continuativa (\"non si smette mai di imparare\"). Immaginiamo di dotare il nostro robot di un imput video composto da due telecamere (per avere il senso della profondità) aventi una risoluzione di 1080p (HD) operanti a 60 FPS: produrremmo svariate decine di GB al giorno solo di dati video (assumendo di usare compressione video). Diventerebbe presto impraticabile immagazzinare tutti i dati in locale (nel robot) e il costo (e l'efficienza) del sistema diminuirebbe piuttosto velocemente.\n",
    "\n",
    "Risulta evidente l'assoluta necessità di migliorare lo stato delle cose. D'ora in poi assumeremo che i dati di addestramento diventeranno *totalmente o quasi totalmente* indisponibili una volta usati per l'addestramento. \"Quasi totalmente\" è un riferimento ad alcune tecniche che prevedono il salvataggio di un numero molto limitato di esempi per ogni categoria.\n",
    "\n",
    "### Catastrophic forgetting\n",
    "\n",
    "Perchè non continuare semplicemente l'addestramento con i nuovi dati disponibili? In effetti, *a priori* non abbiamo nessun motivo **semplice** per pensare a una drastica riduzione delle performance se adottiamo tale linea di condotta. Un rapido esempio dimostrerà l'erroneità di tale pensiero.\n",
    "\n",
    "Continuiamo l'addestramento del nostro modello originale, dopo aver avuto cura di modificare l'ultimo strato per adattarlo alla presenza di una terza cifra:"
   ]
  },
  {
   "cell_type": "code",
   "execution_count": 39,
   "metadata": {},
   "outputs": [
    {
     "name": "stdout",
     "output_type": "stream",
     "text": [
      "Linear(in_features=784, out_features=64, bias=True)\n",
      "Linear(in_features=64, out_features=64, bias=True)\n",
      "Linear(in_features=64, out_features=3, bias=True)\n"
     ]
    }
   ],
   "source": [
    "model_01_continue = copy.deepcopy(model_01)\n",
    "\n",
    "modules = model_01_continue._modules\n",
    "last_module_name = list(modules.keys())[-1]\n",
    "\n",
    "model_01_continue._modules[last_module_name] = nn.Linear(64,3)\n",
    "\n",
    "for child in model_01_continue.children():\n",
    "    print(child)"
   ]
  },
  {
   "cell_type": "code",
   "execution_count": 36,
   "metadata": {},
   "outputs": [],
   "source": [
    "idx_2 = train_dataset.targets == 2\n",
    "\n",
    "idx = idx_2\n",
    "\n",
    "train_dataset_2 = copy.deepcopy(train_dataset)\n",
    "train_dataset_2.targets = train_dataset_2.targets[idx]\n",
    "train_dataset_2.data = train_dataset_2.data[idx]\n",
    "\n",
    "train_loader_2 = torch.utils.data.DataLoader(train_dataset_2, batch_size=batch_size_train, shuffle=True)\n",
    "\n",
    "idx_2 = test_dataset.targets == 2\n",
    "\n",
    "idx = idx_2\n",
    "\n",
    "test_dataset_2 = copy.deepcopy(test_dataset)\n",
    "test_dataset_2.targets = test_dataset_2.targets[idx]\n",
    "test_dataset_2.data = test_dataset_2.data[idx]\n",
    "\n",
    "test_loader_2 = torch.utils.data.DataLoader(test_dataset_2, batch_size=batch_size_test, shuffle=True)"
   ]
  },
  {
   "cell_type": "markdown",
   "metadata": {},
   "source": [
    "Addestriamo il modello usando solo i dati relativi alla cifra 2, tuttavia eseguiamo il test anche ssu tutte e tre le cifre, per osservare quanto la prestazione risenta di questo tipo di addestramento:"
   ]
  },
  {
   "cell_type": "code",
   "execution_count": 41,
   "metadata": {},
   "outputs": [
    {
     "name": "stderr",
     "output_type": "stream",
     "text": [
      "100%|██████████| 94/94 [00:01<00:00, 75.60batch/s, loss=0.496]\n",
      "  9%|▊         | 8/94 [00:00<00:01, 74.52batch/s, loss=0.0916]"
     ]
    },
    {
     "name": "stdout",
     "output_type": "stream",
     "text": [
      "\n",
      "Test set: Average loss: 1.9698, Accuracy: 1032/3147 (33%)\n",
      "\n"
     ]
    },
    {
     "name": "stderr",
     "output_type": "stream",
     "text": [
      "100%|██████████| 94/94 [00:01<00:00, 79.75batch/s, loss=0.0467]\n",
      "  9%|▊         | 8/94 [00:00<00:01, 75.59batch/s, loss=0.0159]"
     ]
    },
    {
     "name": "stdout",
     "output_type": "stream",
     "text": [
      "\n",
      "Test set: Average loss: 3.1395, Accuracy: 1032/3147 (33%)\n",
      "\n"
     ]
    },
    {
     "name": "stderr",
     "output_type": "stream",
     "text": [
      "100%|██████████| 94/94 [00:01<00:00, 78.13batch/s, loss=0.00989]\n",
      "  9%|▊         | 8/94 [00:00<00:01, 74.33batch/s, loss=0.00512]"
     ]
    },
    {
     "name": "stdout",
     "output_type": "stream",
     "text": [
      "\n",
      "Test set: Average loss: 3.9094, Accuracy: 1032/3147 (33%)\n",
      "\n"
     ]
    },
    {
     "name": "stderr",
     "output_type": "stream",
     "text": [
      "100%|██████████| 94/94 [00:01<00:00, 67.77batch/s, loss=0.00368]\n",
      "  7%|▋         | 7/94 [00:00<00:01, 68.26batch/s, loss=0.0023] "
     ]
    },
    {
     "name": "stdout",
     "output_type": "stream",
     "text": [
      "\n",
      "Test set: Average loss: 4.4357, Accuracy: 1032/3147 (33%)\n",
      "\n"
     ]
    },
    {
     "name": "stderr",
     "output_type": "stream",
     "text": [
      "100%|██████████| 94/94 [00:01<00:00, 76.16batch/s, loss=0.00184]\n"
     ]
    },
    {
     "name": "stdout",
     "output_type": "stream",
     "text": [
      "\n",
      "Test set: Average loss: 4.8280, Accuracy: 1032/3147 (33%)\n",
      "\n"
     ]
    }
   ],
   "source": [
    "epochs      = 5\n",
    "lr          = 1e-2\n",
    "\n",
    "optimizer = optim.Adadelta(model_01_continue.parameters(), lr = lr)\n",
    "\n",
    "for epoch in (range(1, epochs + 1)):\n",
    "    train(model_01_continue, device, train_loader_2, optimizer, epoch)\n",
    "    test(model_01_continue, device, test_loader_012)"
   ]
  },
  {
   "cell_type": "markdown",
   "metadata": {},
   "source": [
    "Non a caso questo fenomeno viene detto **catastrophic forgetting**: il modello ha completamente disimparato a discernere le cifre tra di loro, risultando in un modello sostanzialmente casuale (e inutile). Questa è l'origine di tutti i mali del Continual Learning, il peccato originale di ogni tentavo di affrancamento dalla tirannia dei dataset statici. Questo fenomeno era immaginabile anche prima dell'esecuzione di questo semplice esperimento, pensando a cosa significa la procedura di addestramento di una rete neurale per discesa del gradiente: dato che il gradiente è essenzialmente lo stesso per ogni istanza delle immagini mostrate, i paramentri della rete si sono spostati tutti nella direzione che massimizza il guadagno sui dati presentati (questo è anche il motivo per cui è essenziale una buona randomizzazione degli input durante l'addestramneot durante il ML classico).\n",
    "\n",
    "Occore pensare a una mitigazione di questo effetto. Potremmo provare ad adottare una tecnica simile a quanto fatto in precedenza, ovvero fissare alcuni dei parametri in modo che non possano più essere cambiati. Tuttavia questo non cambierebbe il risultato finale: il classificatore \"imparerà\" comunque a riconoscere solamente gli ultimi dati forniti. Siamo però sulla strada giusta: il problema risiede, a quanto sembra, nella eccessiva \"mobilità\" del valore delle sinapsi. L'intuito ci suggerisce di trovare un modo di \"fissare\" i pesi in maniera che tuttavia siano sufficientemente mobili da poter continuare ad apprendere. Vorremmo quindi conferire una sorta di \"viscosità\" ai pesi, senza doverli fissare in maniera totale. Quale è tuttavia il giusto bilancio tra la stabilità e la plasticità dei pesi? In letteratura ci si riferisce a tale problema con la dizione \"stability-plasticity dilemma\" ed è uno dei nodi centrali della ricerca in ambito CL.\n",
    "\n",
    "## 3 - Automazione\n",
    "\n",
    "### Avalanche: and End-to-End library for Continual Learning\n",
    "\n",
    "*Nota: alcune parti di codice riportato di seguito provengono direttamente sito di Avalanche o dal repository ufficiale di Avalanche (https://github.com/ContinualAI/avalanche)*\n",
    "\n",
    "Prima di procedere con l'esplorazione di alcuni algoritmi di CL è opportuno avere un modo pe poter implementare le nostre idee ed eseguire i nostri esperimenti in maniera rapida, efficiente e riproducibile. La libreria Avalanche (https://avalanche.continualai.org/) rappresenta la risposta a questa esigenza. Essa presenta, oltre a un framework tale da permettere la comparazione tra diversi algoritmi pulita ed efficiente, l'implementazione di una vasta gamma di algoritmi pubblicati di CL. Impostiamo quindi un problema di CL: "
   ]
  },
  {
   "cell_type": "code",
   "execution_count": 46,
   "metadata": {},
   "outputs": [
    {
     "name": "stdout",
     "output_type": "stream",
     "text": [
      "Starting experiment...\n",
      "Start of experience:  0\n",
      "Current Classes:  [4, 7]\n",
      "-- >> Start of training phase << --\n",
      "-- Starting training on experience 0 (Task 0) from train stream --\n",
      "100%|██████████| 25/25 [00:01<00:00, 20.01it/s]\n",
      "Epoch 0 ended.\n",
      "\tLoss_Epoch/train_phase/train_stream/Task000 = 1.1959\n",
      "\tLoss_MB/train_phase/train_stream/Task000 = 0.4176\n",
      "\tTop1_Acc_Epoch/train_phase/train_stream/Task000 = 0.6766\n",
      "\tTop1_Acc_MB/train_phase/train_stream/Task000 = 0.8692\n",
      "-- >> End of training phase << --\n",
      "Training completed\n",
      "Computing accuracy on the whole test set\n",
      "-- >> Start of eval phase << --\n",
      "-- Starting eval on experience 0 (Task 0) from test stream --\n",
      "100%|██████████| 21/21 [00:00<00:00, 45.90it/s]\n",
      "> Eval on experience 0 (Task 0) from test stream ended.\n",
      "\tLoss_Exp/eval_phase/test_stream/Task000/Exp000 = 0.3150\n",
      "\tTop1_Acc_Exp/eval_phase/test_stream/Task000/Exp000 = 0.9597\n",
      "-- Starting eval on experience 1 (Task 0) from test stream --\n",
      "100%|██████████| 19/19 [00:00<00:00, 56.29it/s]\n",
      "> Eval on experience 1 (Task 0) from test stream ended.\n",
      "\tLoss_Exp/eval_phase/test_stream/Task000/Exp001 = 4.7780\n",
      "\tTop1_Acc_Exp/eval_phase/test_stream/Task000/Exp001 = 0.0000\n",
      "-- Starting eval on experience 2 (Task 0) from test stream --\n",
      "100%|██████████| 20/20 [00:00<00:00, 53.44it/s]\n",
      "> Eval on experience 2 (Task 0) from test stream ended.\n",
      "\tLoss_Exp/eval_phase/test_stream/Task000/Exp002 = 4.8128\n",
      "\tTop1_Acc_Exp/eval_phase/test_stream/Task000/Exp002 = 0.0000\n",
      "-- Starting eval on experience 3 (Task 0) from test stream --\n",
      "100%|██████████| 22/22 [00:00<00:00, 56.58it/s]\n",
      "> Eval on experience 3 (Task 0) from test stream ended.\n",
      "\tLoss_Exp/eval_phase/test_stream/Task000/Exp003 = 4.6700\n",
      "\tTop1_Acc_Exp/eval_phase/test_stream/Task000/Exp003 = 0.0000\n",
      "-- Starting eval on experience 4 (Task 0) from test stream --\n",
      "100%|██████████| 21/21 [00:00<00:00, 52.00it/s]\n",
      "> Eval on experience 4 (Task 0) from test stream ended.\n",
      "\tLoss_Exp/eval_phase/test_stream/Task000/Exp004 = 5.3938\n",
      "\tTop1_Acc_Exp/eval_phase/test_stream/Task000/Exp004 = 0.0000\n",
      "-- >> End of eval phase << --\n",
      "\tConfusionMatrix_Stream/eval_phase/test_stream = \n",
      "tensor([[   0,    0,    0,    0,  605,    0,    0,  375,    0,    0],\n",
      "        [   0,    0,    0,    0,  106,    0,    0, 1029,    0,    0],\n",
      "        [   0,    0,    0,    0,  725,    0,    0,  307,    0,    0],\n",
      "        [   0,    0,    0,    0,  352,    0,    0,  658,    0,    0],\n",
      "        [   0,    0,    0,    0,  951,    0,    0,   31,    0,    0],\n",
      "        [   0,    0,    0,    0,  414,    0,    0,  478,    0,    0],\n",
      "        [   0,    0,    0,    0,  909,    0,    0,   49,    0,    0],\n",
      "        [   0,    0,    0,    0,   50,    0,    0,  978,    0,    0],\n",
      "        [   0,    0,    0,    0,  524,    0,    0,  450,    0,    0],\n",
      "        [   0,    0,    0,    0,  709,    0,    0,  300,    0,    0]])\n",
      "\tLoss_Stream/eval_phase/test_stream/Task000 = 3.9907\n",
      "\tStreamForgetting/eval_phase/test_stream = 0.0000\n",
      "\tTop1_Acc_Stream/eval_phase/test_stream/Task000 = 0.1929\n",
      "Start of experience:  1\n",
      "Current Classes:  [0, 5]\n",
      "-- >> Start of training phase << --\n",
      "-- Starting training on experience 1 (Task 0) from train stream --\n",
      "100%|██████████| 23/23 [00:01<00:00, 19.98it/s]\n",
      "Epoch 0 ended.\n",
      "\tLoss_Epoch/train_phase/train_stream/Task000 = 1.8820\n",
      "\tLoss_MB/train_phase/train_stream/Task000 = 0.4669\n",
      "\tTop1_Acc_Epoch/train_phase/train_stream/Task000 = 0.4440\n",
      "\tTop1_Acc_MB/train_phase/train_stream/Task000 = 0.8924\n",
      "-- >> End of training phase << --\n",
      "Training completed\n",
      "Computing accuracy on the whole test set\n",
      "-- >> Start of eval phase << --\n",
      "-- Starting eval on experience 0 (Task 0) from test stream --\n",
      "100%|██████████| 21/21 [00:00<00:00, 53.02it/s]\n",
      "> Eval on experience 0 (Task 0) from test stream ended.\n",
      "\tExperienceForgetting/eval_phase/test_stream/Task000/Exp000 = 0.9597\n",
      "\tLoss_Exp/eval_phase/test_stream/Task000/Exp000 = 2.5051\n",
      "\tTop1_Acc_Exp/eval_phase/test_stream/Task000/Exp000 = 0.0000\n",
      "-- Starting eval on experience 1 (Task 0) from test stream --\n",
      "100%|██████████| 19/19 [00:00<00:00, 52.76it/s]\n",
      "> Eval on experience 1 (Task 0) from test stream ended.\n",
      "\tLoss_Exp/eval_phase/test_stream/Task000/Exp001 = 0.4205\n",
      "\tTop1_Acc_Exp/eval_phase/test_stream/Task000/Exp001 = 0.9204\n",
      "-- Starting eval on experience 2 (Task 0) from test stream --\n",
      "100%|██████████| 20/20 [00:00<00:00, 51.68it/s]\n",
      "> Eval on experience 2 (Task 0) from test stream ended.\n",
      "\tLoss_Exp/eval_phase/test_stream/Task000/Exp002 = 4.7610\n",
      "\tTop1_Acc_Exp/eval_phase/test_stream/Task000/Exp002 = 0.0000\n",
      "-- Starting eval on experience 3 (Task 0) from test stream --\n",
      "100%|██████████| 22/22 [00:00<00:00, 57.88it/s]\n",
      "> Eval on experience 3 (Task 0) from test stream ended.\n",
      "\tLoss_Exp/eval_phase/test_stream/Task000/Exp003 = 4.2522\n",
      "\tTop1_Acc_Exp/eval_phase/test_stream/Task000/Exp003 = 0.0000\n",
      "-- Starting eval on experience 4 (Task 0) from test stream --\n",
      "100%|██████████| 21/21 [00:00<00:00, 53.25it/s]\n",
      "> Eval on experience 4 (Task 0) from test stream ended.\n",
      "\tLoss_Exp/eval_phase/test_stream/Task000/Exp004 = 4.7743\n",
      "\tTop1_Acc_Exp/eval_phase/test_stream/Task000/Exp004 = 0.0000\n",
      "-- >> End of eval phase << --\n",
      "\tConfusionMatrix_Stream/eval_phase/test_stream = \n",
      "tensor([[ 944,    0,    0,    0,    0,   36,    0,    0,    0,    0],\n",
      "        [   0,    0,    0,    0,    0, 1135,    0,    0,    0,    0],\n",
      "        [ 354,    0,    0,    0,    0,  678,    0,    0,    0,    0],\n",
      "        [ 166,    0,    0,    0,    0,  844,    0,    0,    0,    0],\n",
      "        [ 132,    0,    0,    0,    0,  850,    0,    0,    0,    0],\n",
      "        [ 113,    0,    0,    0,    0,  779,    0,    0,    0,    0],\n",
      "        [ 334,    0,    0,    0,    0,  624,    0,    0,    0,    0],\n",
      "        [ 121,    0,    0,    0,    0,  907,    0,    0,    0,    0],\n",
      "        [  65,    0,    0,    0,    0,  909,    0,    0,    0,    0],\n",
      "        [  79,    0,    0,    0,    0,  930,    0,    0,    0,    0]])\n",
      "\tLoss_Stream/eval_phase/test_stream/Task000 = 3.3904\n",
      "\tStreamForgetting/eval_phase/test_stream = 0.9597\n",
      "\tTop1_Acc_Stream/eval_phase/test_stream/Task000 = 0.1723\n",
      "Start of experience:  2\n",
      "Current Classes:  [3, 6]\n",
      "-- >> Start of training phase << --\n",
      "-- Starting training on experience 2 (Task 0) from train stream --\n",
      "100%|██████████| 25/25 [00:01<00:00, 20.71it/s]\n",
      "Epoch 0 ended.\n",
      "\tLoss_Epoch/train_phase/train_stream/Task000 = 1.9605\n",
      "\tLoss_MB/train_phase/train_stream/Task000 = 0.3743\n",
      "\tTop1_Acc_Epoch/train_phase/train_stream/Task000 = 0.4946\n",
      "\tTop1_Acc_MB/train_phase/train_stream/Task000 = 0.9796\n",
      "-- >> End of training phase << --\n",
      "Training completed\n",
      "Computing accuracy on the whole test set\n",
      "-- >> Start of eval phase << --\n",
      "-- Starting eval on experience 0 (Task 0) from test stream --\n",
      "100%|██████████| 21/21 [00:00<00:00, 42.55it/s]\n",
      "> Eval on experience 0 (Task 0) from test stream ended.\n",
      "\tExperienceForgetting/eval_phase/test_stream/Task000/Exp000 = 0.9547\n",
      "\tLoss_Exp/eval_phase/test_stream/Task000/Exp000 = 2.3645\n",
      "\tTop1_Acc_Exp/eval_phase/test_stream/Task000/Exp000 = 0.0050\n",
      "-- Starting eval on experience 1 (Task 0) from test stream --\n",
      "100%|██████████| 19/19 [00:00<00:00, 44.98it/s]\n",
      "> Eval on experience 1 (Task 0) from test stream ended.\n",
      "\tExperienceForgetting/eval_phase/test_stream/Task000/Exp001 = 0.9204\n",
      "\tLoss_Exp/eval_phase/test_stream/Task000/Exp001 = 2.7218\n",
      "\tTop1_Acc_Exp/eval_phase/test_stream/Task000/Exp001 = 0.0000\n",
      "-- Starting eval on experience 2 (Task 0) from test stream --\n",
      "100%|██████████| 20/20 [00:00<00:00, 52.45it/s]\n",
      "> Eval on experience 2 (Task 0) from test stream ended.\n",
      "\tLoss_Exp/eval_phase/test_stream/Task000/Exp002 = 0.3009\n",
      "\tTop1_Acc_Exp/eval_phase/test_stream/Task000/Exp002 = 0.9822\n",
      "-- Starting eval on experience 3 (Task 0) from test stream --\n",
      "100%|██████████| 22/22 [00:00<00:00, 53.62it/s]\n",
      "> Eval on experience 3 (Task 0) from test stream ended.\n",
      "\tLoss_Exp/eval_phase/test_stream/Task000/Exp003 = 3.8027\n",
      "\tTop1_Acc_Exp/eval_phase/test_stream/Task000/Exp003 = 0.0000\n",
      "-- Starting eval on experience 4 (Task 0) from test stream --\n",
      "100%|██████████| 21/21 [00:00<00:00, 50.56it/s]\n",
      "> Eval on experience 4 (Task 0) from test stream ended.\n",
      "\tLoss_Exp/eval_phase/test_stream/Task000/Exp004 = 4.1646\n",
      "\tTop1_Acc_Exp/eval_phase/test_stream/Task000/Exp004 = 0.0000\n",
      "-- >> End of eval phase << --\n",
      "\tConfusionMatrix_Stream/eval_phase/test_stream = \n",
      "tensor([[   0,    0,    0,  612,    0,    0,  368,    0,    0,    0],\n",
      "        [   0,    0,    0, 1080,    0,    0,   55,    0,    0,    0],\n",
      "        [   0,    0,    0,  459,    0,    0,  573,    0,    0,    0],\n",
      "        [   0,    0,    0,  990,    0,    0,   20,    0,    0,    0],\n",
      "        [   0,    0,    0,  135,    0,    0,  847,    0,    0,    0],\n",
      "        [   0,    0,    0,  713,    0,    0,  179,    0,    0,    0],\n",
      "        [   0,    0,    0,   15,    0,    0,  943,    0,    0,    0],\n",
      "        [   0,    0,    0,  845,    0,    0,  173,   10,    0,    0],\n",
      "        [   0,    0,    0,  802,    0,    0,  172,    0,    0,    0],\n",
      "        [   0,    0,    0,  480,    0,    0,  529,    0,    0,    0]])\n",
      "\tLoss_Stream/eval_phase/test_stream/Task000 = 2.6960\n",
      "\tStreamForgetting/eval_phase/test_stream = 0.9376\n",
      "\tTop1_Acc_Stream/eval_phase/test_stream/Task000 = 0.1943\n",
      "Start of experience:  3\n",
      "Current Classes:  [8, 1]\n",
      "-- >> Start of training phase << --\n",
      "-- Starting training on experience 3 (Task 0) from train stream --\n",
      "100%|██████████| 26/26 [00:01<00:00, 19.48it/s]\n",
      "Epoch 0 ended.\n",
      "\tLoss_Epoch/train_phase/train_stream/Task000 = 1.8656\n",
      "\tLoss_MB/train_phase/train_stream/Task000 = 0.4968\n",
      "\tTop1_Acc_Epoch/train_phase/train_stream/Task000 = 0.4542\n",
      "\tTop1_Acc_MB/train_phase/train_stream/Task000 = 0.9140\n",
      "-- >> End of training phase << --\n",
      "Training completed\n",
      "Computing accuracy on the whole test set\n",
      "-- >> Start of eval phase << --\n",
      "-- Starting eval on experience 0 (Task 0) from test stream --\n",
      "100%|██████████| 21/21 [00:00<00:00, 46.74it/s]\n",
      "> Eval on experience 0 (Task 0) from test stream ended.\n",
      "\tExperienceForgetting/eval_phase/test_stream/Task000/Exp000 = 0.9408\n",
      "\tLoss_Exp/eval_phase/test_stream/Task000/Exp000 = 2.4442\n",
      "\tTop1_Acc_Exp/eval_phase/test_stream/Task000/Exp000 = 0.0189\n",
      "-- Starting eval on experience 1 (Task 0) from test stream --\n",
      "100%|██████████| 19/19 [00:00<00:00, 45.81it/s]\n",
      "> Eval on experience 1 (Task 0) from test stream ended.\n",
      "\tExperienceForgetting/eval_phase/test_stream/Task000/Exp001 = 0.9161\n",
      "\tLoss_Exp/eval_phase/test_stream/Task000/Exp001 = 2.6892\n",
      "\tTop1_Acc_Exp/eval_phase/test_stream/Task000/Exp001 = 0.0043\n",
      "-- Starting eval on experience 2 (Task 0) from test stream --\n",
      "100%|██████████| 20/20 [00:00<00:00, 48.84it/s]\n",
      "> Eval on experience 2 (Task 0) from test stream ended.\n",
      "\tExperienceForgetting/eval_phase/test_stream/Task000/Exp002 = 0.8440\n",
      "\tLoss_Exp/eval_phase/test_stream/Task000/Exp002 = 1.9353\n",
      "\tTop1_Acc_Exp/eval_phase/test_stream/Task000/Exp002 = 0.1382\n",
      "-- Starting eval on experience 3 (Task 0) from test stream --\n",
      "100%|██████████| 22/22 [00:00<00:00, 54.45it/s]\n",
      "> Eval on experience 3 (Task 0) from test stream ended.\n",
      "\tLoss_Exp/eval_phase/test_stream/Task000/Exp003 = 0.4219\n",
      "\tTop1_Acc_Exp/eval_phase/test_stream/Task000/Exp003 = 0.9564\n",
      "-- Starting eval on experience 4 (Task 0) from test stream --\n",
      "100%|██████████| 21/21 [00:00<00:00, 49.21it/s]\n",
      "> Eval on experience 4 (Task 0) from test stream ended.\n",
      "\tLoss_Exp/eval_phase/test_stream/Task000/Exp004 = 3.9913\n",
      "\tTop1_Acc_Exp/eval_phase/test_stream/Task000/Exp004 = 0.0000\n",
      "-- >> End of eval phase << --\n",
      "\tConfusionMatrix_Stream/eval_phase/test_stream = \n",
      "tensor([[   8,    6,    0,    0,    0,    0,   29,    0,  937,    0],\n",
      "        [   0, 1127,    0,    0,    0,    0,    0,    0,    8,    0],\n",
      "        [   0,  289,    0,    0,    0,    0,    3,    0,  740,    0],\n",
      "        [   0,   96,    0,    0,    0,    0,    0,    0,  914,    0],\n",
      "        [   0,  224,    0,    0,    0,    0,   36,    0,  722,    0],\n",
      "        [   0,  154,    0,    0,    0,    0,    0,    0,  738,    0],\n",
      "        [   1,  168,    0,    0,    0,    0,  272,    0,  517,    0],\n",
      "        [   0,  531,    0,    0,    0,    0,    2,   38,  457,    0],\n",
      "        [   0,   84,    0,    0,    0,    0,    0,    0,  890,    0],\n",
      "        [   0,  213,    0,    0,    0,    0,    2,    0,  794,    0]])\n",
      "\tLoss_Stream/eval_phase/test_stream/Task000 = 2.2792\n",
      "\tStreamForgetting/eval_phase/test_stream = 0.9003\n",
      "\tTop1_Acc_Stream/eval_phase/test_stream/Task000 = 0.2335\n",
      "Start of experience:  4\n",
      "Current Classes:  [9, 2]\n",
      "-- >> Start of training phase << --\n",
      "-- Starting training on experience 4 (Task 0) from train stream --\n",
      "100%|██████████| 24/24 [00:01<00:00, 19.56it/s]\n",
      "Epoch 0 ended.\n",
      "\tLoss_Epoch/train_phase/train_stream/Task000 = 2.3890\n",
      "\tLoss_MB/train_phase/train_stream/Task000 = 1.0975\n",
      "\tTop1_Acc_Epoch/train_phase/train_stream/Task000 = 0.3175\n",
      "\tTop1_Acc_MB/train_phase/train_stream/Task000 = 0.9312\n",
      "-- >> End of training phase << --\n",
      "Training completed\n",
      "Computing accuracy on the whole test set\n",
      "-- >> Start of eval phase << --\n",
      "-- Starting eval on experience 0 (Task 0) from test stream --\n",
      "100%|██████████| 21/21 [00:00<00:00, 50.15it/s]\n",
      "> Eval on experience 0 (Task 0) from test stream ended.\n",
      "\tExperienceForgetting/eval_phase/test_stream/Task000/Exp000 = 0.9587\n",
      "\tLoss_Exp/eval_phase/test_stream/Task000/Exp000 = 2.3381\n",
      "\tTop1_Acc_Exp/eval_phase/test_stream/Task000/Exp000 = 0.0010\n",
      "-- Starting eval on experience 1 (Task 0) from test stream --\n",
      "100%|██████████| 19/19 [00:00<00:00, 49.04it/s]\n",
      "> Eval on experience 1 (Task 0) from test stream ended.\n",
      "\tExperienceForgetting/eval_phase/test_stream/Task000/Exp001 = 0.7847\n",
      "\tLoss_Exp/eval_phase/test_stream/Task000/Exp001 = 2.3421\n",
      "\tTop1_Acc_Exp/eval_phase/test_stream/Task000/Exp001 = 0.1357\n",
      "-- Starting eval on experience 2 (Task 0) from test stream --\n",
      "100%|██████████| 20/20 [00:00<00:00, 36.79it/s]\n",
      "> Eval on experience 2 (Task 0) from test stream ended.\n",
      "\tExperienceForgetting/eval_phase/test_stream/Task000/Exp002 = 0.9096\n",
      "\tLoss_Exp/eval_phase/test_stream/Task000/Exp002 = 2.0590\n",
      "\tTop1_Acc_Exp/eval_phase/test_stream/Task000/Exp002 = 0.0727\n",
      "-- Starting eval on experience 3 (Task 0) from test stream --\n",
      "100%|██████████| 22/22 [00:00<00:00, 48.34it/s]\n",
      "> Eval on experience 3 (Task 0) from test stream ended.\n",
      "\tExperienceForgetting/eval_phase/test_stream/Task000/Exp003 = 0.5609\n",
      "\tLoss_Exp/eval_phase/test_stream/Task000/Exp003 = 1.5803\n",
      "\tTop1_Acc_Exp/eval_phase/test_stream/Task000/Exp003 = 0.3954\n",
      "-- Starting eval on experience 4 (Task 0) from test stream --\n",
      "100%|██████████| 21/21 [00:00<00:00, 44.75it/s]\n",
      "> Eval on experience 4 (Task 0) from test stream ended.\n",
      "\tLoss_Exp/eval_phase/test_stream/Task000/Exp004 = 0.9626\n",
      "\tTop1_Acc_Exp/eval_phase/test_stream/Task000/Exp004 = 0.9701\n",
      "-- >> End of eval phase << --\n",
      "\tConfusionMatrix_Stream/eval_phase/test_stream = \n",
      "tensor([[ 254,    0,  608,    8,    0,    0,   21,    0,   21,   68],\n",
      "        [   0,  834,  269,    0,    0,    0,    0,    0,    0,   32],\n",
      "        [   0,    1, 1013,    0,    0,    0,    1,    0,    0,   17],\n",
      "        [   0,    6,  616,   97,    0,    0,    0,    0,   18,  273],\n",
      "        [   0,    2,  147,    0,    0,    0,    3,    0,    0,  830],\n",
      "        [   0,   15,  366,   21,    0,    0,    0,    0,   35,  455],\n",
      "        [   1,    4,  852,    0,    0,    0,   46,    0,    0,   55],\n",
      "        [   2,   15,  129,    0,    0,    0,    1,    2,    0,  879],\n",
      "        [   0,    0,  626,    0,    0,    0,    0,    0,    0,  348],\n",
      "        [   0,    2,   39,    1,    0,    0,    0,    0,    0,  967]])\n",
      "\tLoss_Stream/eval_phase/test_stream/Task000 = 1.8434\n",
      "\tStreamForgetting/eval_phase/test_stream = 0.8035\n",
      "\tTop1_Acc_Stream/eval_phase/test_stream/Task000 = 0.3213\n"
     ]
    }
   ],
   "source": [
    "from avalanche.benchmarks.classic import SplitMNIST\n",
    "from avalanche.evaluation.metrics import forgetting_metrics, accuracy_metrics,\\\n",
    "    loss_metrics, timing_metrics, cpu_usage_metrics, StreamConfusionMatrix,\\\n",
    "    disk_usage_metrics, gpu_usage_metrics\n",
    "from avalanche.models import SimpleMLP\n",
    "from avalanche.logging import InteractiveLogger, TextLogger, TensorboardLogger\n",
    "from avalanche.training.plugins import EvaluationPlugin\n",
    "from avalanche.training.strategies import Naive, Cumulative\n",
    "\n",
    "from torch.optim import SGD\n",
    "from torch.nn import CrossEntropyLoss\n",
    "\n",
    "scenario = SplitMNIST(n_experiences=5)\n",
    "\n",
    "# MODEL CREATION\n",
    "model = SimpleMLP(num_classes=scenario.n_classes)\n",
    "\n",
    "# DEFINE THE EVALUATION PLUGIN and LOGGERS\n",
    "# The evaluation plugin manages the metrics computation.\n",
    "# It takes as argument a list of metrics, collectes their results and returns \n",
    "# them to the strategy it is attached to.\n",
    "\n",
    "# log to Tensorboard\n",
    "tb_logger = TensorboardLogger()\n",
    "\n",
    "# log to text file\n",
    "text_logger = TextLogger(open('log.txt', 'w'))\n",
    "\n",
    "# print to stdout\n",
    "interactive_logger = InteractiveLogger()\n",
    "\n",
    "eval_plugin = EvaluationPlugin(\n",
    "    accuracy_metrics(minibatch=True, epoch=True, experience=True, stream=True),\n",
    "    loss_metrics(minibatch=True, epoch=True, experience=True, stream=True),\n",
    "    forgetting_metrics(experience=True, stream=True),\n",
    "    StreamConfusionMatrix(num_classes=scenario.n_classes, save_image=False),\n",
    "    loggers=[interactive_logger, text_logger, tb_logger]\n",
    ")\n",
    "\n",
    "# CREATE THE STRATEGY INSTANCE (NAIVE)\n",
    "cl_strategy = Naive(\n",
    "    model, SGD(model.parameters(), lr=0.001, momentum=0.9),\n",
    "    CrossEntropyLoss(), train_mb_size=500, train_epochs=1, eval_mb_size=100,\n",
    "    evaluator=eval_plugin)\n",
    "\n",
    "# TRAINING LOOP\n",
    "print('Starting experiment...')\n",
    "results = []\n",
    "for experience in scenario.train_stream:\n",
    "    print(\"Start of experience: \", experience.current_experience)\n",
    "    print(\"Current Classes: \", experience.classes_in_this_experience)\n",
    "\n",
    "    # train returns a dictionary which contains all the metric values\n",
    "    res = cl_strategy.train(experience, num_workers=4)\n",
    "    print('Training completed')\n",
    "\n",
    "    print('Computing accuracy on the whole test set')\n",
    "    # eval also returns a dictionary which contains all the metric values\n",
    "    results.append(cl_strategy.eval(scenario.test_stream, num_workers=4))"
   ]
  },
  {
   "cell_type": "code",
   "execution_count": 51,
   "metadata": {},
   "outputs": [
    {
     "name": "stdout",
     "output_type": "stream",
     "text": [
      "dict_keys(['Top1_Acc_MB/train_phase/train_stream/Task000', 'Loss_MB/train_phase/train_stream/Task000', 'Top1_Acc_Epoch/train_phase/train_stream/Task000', 'Loss_Epoch/train_phase/train_stream/Task000', 'Top1_Acc_Exp/eval_phase/test_stream/Task000/Exp000', 'Loss_Exp/eval_phase/test_stream/Task000/Exp000', 'Top1_Acc_Exp/eval_phase/test_stream/Task000/Exp001', 'Loss_Exp/eval_phase/test_stream/Task000/Exp001', 'Top1_Acc_Exp/eval_phase/test_stream/Task000/Exp002', 'Loss_Exp/eval_phase/test_stream/Task000/Exp002', 'Top1_Acc_Exp/eval_phase/test_stream/Task000/Exp003', 'Loss_Exp/eval_phase/test_stream/Task000/Exp003', 'Top1_Acc_Exp/eval_phase/test_stream/Task000/Exp004', 'Loss_Exp/eval_phase/test_stream/Task000/Exp004', 'Top1_Acc_Stream/eval_phase/test_stream/Task000', 'Loss_Stream/eval_phase/test_stream/Task000', 'StreamForgetting/eval_phase/test_stream', 'ConfusionMatrix_Stream/eval_phase/test_stream'])\n",
      "tensor([[   0,    0,    0,    0,  605,    0,    0,  375,    0,    0],\n",
      "        [   0,    0,    0,    0,  106,    0,    0, 1029,    0,    0],\n",
      "        [   0,    0,    0,    0,  725,    0,    0,  307,    0,    0],\n",
      "        [   0,    0,    0,    0,  352,    0,    0,  658,    0,    0],\n",
      "        [   0,    0,    0,    0,  951,    0,    0,   31,    0,    0],\n",
      "        [   0,    0,    0,    0,  414,    0,    0,  478,    0,    0],\n",
      "        [   0,    0,    0,    0,  909,    0,    0,   49,    0,    0],\n",
      "        [   0,    0,    0,    0,   50,    0,    0,  978,    0,    0],\n",
      "        [   0,    0,    0,    0,  524,    0,    0,  450,    0,    0],\n",
      "        [   0,    0,    0,    0,  709,    0,    0,  300,    0,    0]])\n"
     ]
    },
    {
     "data": {
      "image/png": "[encoded data removed]",
      "text/plain": [
       "<Figure size 432x288 with 1 Axes>"
      ]
     },
     "metadata": {
      "needs_background": "light"
     },
     "output_type": "display_data"
    },
    {
     "data": {
      "image/png": "[encoded data removed]",
      "text/plain": [
       "<Figure size 432x288 with 1 Axes>"
      ]
     },
     "metadata": {
      "needs_background": "light"
     },
     "output_type": "display_data"
    },
    {
     "data": {
      "image/png": "[encoded data removed]",
      "text/plain": [
       "<Figure size 432x288 with 1 Axes>"
      ]
     },
     "metadata": {
      "needs_background": "light"
     },
     "output_type": "display_data"
    },
    {
     "data": {
      "image/png": "[encoded data removed]",
      "text/plain": [
       "<Figure size 432x288 with 1 Axes>"
      ]
     },
     "metadata": {
      "needs_background": "light"
     },
     "output_type": "display_data"
    },
    {
     "data": {
      "image/png": "[encoded data removed]",
      "text/plain": [
       "<Figure size 432x288 with 1 Axes>"
      ]
     },
     "metadata": {
      "needs_background": "light"
     },
     "output_type": "display_data"
    }
   ],
   "source": [
    "print(results[0].keys())\n",
    "print(results[0]['ConfusionMatrix_Stream/eval_phase/test_stream'])\n",
    "\n",
    "for r in results:\n",
    "    plt.imshow(r['ConfusionMatrix_Stream/eval_phase/test_stream'])\n",
    "    plt.show()"
   ]
  },
  {
   "cell_type": "code",
   "execution_count": null,
   "metadata": {},
   "outputs": [],
   "source": []
  }
 ],
 "metadata": {
  "interpreter": {
   "hash": "31f2aee4e71d21fbe5cf8b01ff0e069b9275f58929596ceb00d14d90e3e16cd6"
  },
  "kernelspec": {
   "display_name": "Python 3.6.8 64-bit",
   "language": "python",
   "name": "python3"
  },
  "language_info": {
   "codemirror_mode": {
    "name": "ipython",
    "version": 3
   },
   "file_extension": ".py",
   "mimetype": "text/x-python",
   "name": "python",
   "nbconvert_exporter": "python",
   "pygments_lexer": "ipython3",
   "version": "3.8.10"
  },
  "orig_nbformat": 4
 },
 "nbformat": 4,
 "nbformat_minor": 2
}
